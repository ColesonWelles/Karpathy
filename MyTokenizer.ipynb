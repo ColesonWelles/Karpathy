{
 "cells": [
  {
   "cell_type": "markdown",
   "id": "3ea93251-3da5-43b7-96e9-71ab78bbf6b6",
   "metadata": {},
   "source": [
    "### My implementation of a character-level tokenizer based on Andrej Karpathy's Zero To Hero lecture series. "
   ]
  },
  {
   "cell_type": "code",
   "execution_count": null,
   "id": "ce1a365d-baf9-4e93-95a2-a5c865d403d0",
   "metadata": {},
   "outputs": [],
   "source": []
  }
 ],
 "metadata": {
  "kernelspec": {
   "display_name": "Python (venv)",
   "language": "python",
   "name": "venv"
  },
  "language_info": {
   "codemirror_mode": {
    "name": "ipython",
    "version": 3
   },
   "file_extension": ".py",
   "mimetype": "text/x-python",
   "name": "python",
   "nbconvert_exporter": "python",
   "pygments_lexer": "ipython3",
   "version": "3.12.3"
  }
 },
 "nbformat": 4,
 "nbformat_minor": 5
}
