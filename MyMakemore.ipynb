{
 "cells": [
  {
   "cell_type": "markdown",
   "id": "f061f0a6",
   "metadata": {},
   "source": [
    "### My implementation of MakeMore which is a very basic autoregressive, character-level, language model that takes one text file as input (each line is assumed to be one training 'thing') and generates more things like it.\n",
    "\n",
    "### It implements several models from bigrams to the vanila Transformer (as outlined in Attention Is All You Need, Vaswani, et al. 2017). "
   ]
  },
  {
   "cell_type": "markdown",
   "id": "1ba1de52",
   "metadata": {},
   "source": []
  },
  {
   "cell_type": "code",
   "execution_count": null,
   "id": "ccfaf1ee",
   "metadata": {},
   "outputs": [],
   "source": []
  }
 ],
 "metadata": {
  "kernelspec": {
   "display_name": ".venv",
   "language": "python",
   "name": "python3"
  },
  "language_info": {
   "name": "python",
   "version": "3.12.3"
  }
 },
 "nbformat": 4,
 "nbformat_minor": 5
}
