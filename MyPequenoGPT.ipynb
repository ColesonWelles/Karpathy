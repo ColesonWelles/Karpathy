{
 "cells": [
  {
   "cell_type": "markdown",
   "id": "2b20e462",
   "metadata": {},
   "source": [
    "### My implementation of NanoGPT, an educational implementation of the GPT-2 architecture as instructed in Andrej Karpathy's Zero To Hero lecture series. "
   ]
  }
 ],
 "metadata": {
  "kernelspec": {
   "display_name": "",
   "name": ""
  },
  "language_info": {
   "name": ""
  }
 },
 "nbformat": 4,
 "nbformat_minor": 5
}
